{
 "cells": [
  {
   "cell_type": "code",
   "execution_count": 1,
   "id": "cad420cb",
   "metadata": {},
   "outputs": [
    {
     "name": "stdout",
     "output_type": "stream",
     "text": [
      "Populating the interactive namespace from numpy and matplotlib\n"
     ]
    }
   ],
   "source": [
    "%pylab inline\n",
    "\n",
    "from sklearn import tree\n",
    "from sklearn.linear_model import LogisticRegression as LR\n",
    "from sklearn.neighbors import KNeighborsClassifier\n",
    "from sklearn.svm import SVC\n",
    "from sklearn.tree import DecisionTreeClassifier\n",
    "import xgboost as xgb\n",
    "from sklearn.ensemble import RandomForestClassifier\n",
    "\n",
    "from sklearn.model_selection import train_test_split\n",
    "from vocabulary import Vocabulary\n",
    "from sklearn.metrics import confusion_matrix\n",
    "from sklearn.model_selection import KFold\n",
    "from imblearn.under_sampling import RandomUnderSampler\n",
    "from sklearn.model_selection import GridSearchCV\n",
    "from sklearn.model_selection import StratifiedKFold  #交叉验证\n",
    "import torch\n",
    "from sklearn.feature_extraction.text import CountVectorizer\n",
    "from sklearn.preprocessing import StandardScaler\n",
    "\n",
    "from time import time\n",
    "import datetime\n",
    "import pandas as pd\n",
    "import numpy as np\n",
    "import graphviz\n",
    "import pickle\n",
    "import warnings\n",
    "\n",
    "warnings.filterwarnings(\"ignore\")"
   ]
  },
  {
   "cell_type": "markdown",
   "id": "fe12fdef",
   "metadata": {},
   "source": [
    "## Amino acid type"
   ]
  },
  {
   "cell_type": "code",
   "execution_count": 2,
   "id": "ebd889c9",
   "metadata": {},
   "outputs": [],
   "source": [
    "# 将序列残基对应词典转换成特征\n",
    "data = pd.read_excel('/home/dldx/R-H/code/classification/ML/data/mafft_MSA_R_H.xlsx')\n",
    "\n",
    "vocabulary = Vocabulary.get_vocabulary_from_sequences(data.Sequence.values)  #将蛋白质序列构造成词典\n",
    "\n",
    "# 数据处理\n",
    "input_seq_tensor = []\n",
    "input_lable = []\n",
    "for i in range(179):\n",
    "    # 将序列残基进行字符编码\n",
    "    seq_tensor = vocabulary.seq_to_tensor(data.Sequence[i])\n",
    "    input_seq_tensor.append(np.array(seq_tensor))\n",
    "    \n",
    "input_seq_tensor = np.array(input_seq_tensor)\n",
    "input_lable = np.array(data.Tier)"
   ]
  },
  {
   "cell_type": "markdown",
   "id": "7f983922",
   "metadata": {},
   "source": [
    "## Disorder score"
   ]
  },
  {
   "cell_type": "code",
   "execution_count": 8,
   "id": "703c9896",
   "metadata": {},
   "outputs": [],
   "source": [
    "data1 = pd.read_csv('/home/dldx/R-H/code/classification/ML/data/disorder/MSA_disorder_R_H.csv')\n",
    "\n",
    "input_feature = pickle.load(open('/home/dldx/R-H/code/classification/ML/data/disorder/all_seq_disorder_R_H.pkl','rb'))\n",
    "input_lable1 = np.array(data1.Tier)"
   ]
  },
  {
   "cell_type": "markdown",
   "id": "a4da5ba0",
   "metadata": {},
   "source": [
    "## LR  Feature1   Amino acid type"
   ]
  },
  {
   "cell_type": "code",
   "execution_count": 15,
   "id": "68b12840",
   "metadata": {},
   "outputs": [
    {
     "name": "stdout",
     "output_type": "stream",
     "text": [
      "数据集划分 random_state：20时，\n",
      "Evaluate：\n",
      "  accuracy : 0.8333333333333334\n",
      "  mcc : 0.6139406135149204\n",
      "  sens : 66.66666666666666\n",
      "  spec : 91.66666666666666\n",
      "============================\n"
     ]
    }
   ],
   "source": [
    "# 设置超参数\n",
    "param_dict = { \"penalty\": [\"l1\",\"l2\"], \"C\": np.linspace(0.05,1,19), \"random_state\":np.arange(0, 31, 3), \"max_iter\": [100, 500, 1000]}\n",
    "\n",
    "# train_test_split 按比例划分原数据集\n",
    "Xtrain,Xtest,Ytrain,Ytest = train_test_split(input_seq_tensor,input_lable,train_size=0.8,random_state = 20)\n",
    "\n",
    "# 建立逻辑回归模型\n",
    "clf = LR()\n",
    "# 将模型加入超参数网格搜索和交叉验证     \n",
    "clf = GridSearchCV(clf, param_grid=param_dict, cv=5)\n",
    "# 模型训练\n",
    "clf = clf.fit(Xtrain,Ytrain)\n",
    "# 模型评估\n",
    "Y_pred = clf.predict(Xtest)\n",
    "cm = confusion_matrix(Ytest,Y_pred)\n",
    "tn, tp, fn, fp = cm[0][0], cm[1][1], cm[1][0], cm[0][1]\n",
    "n = tp + fp + tn + fn\n",
    "accuracy = (tp + tn)/n \n",
    "mcc = ((tp*tn) - (fp*fn))/np.sqrt((tp+fp)*(tn+fn)*(tp+fn)*(tn+fp))\n",
    "sens = tp/(tp + fn) * 100 if tp + fp != 0 else 0\n",
    "spec = tn/(tn + fp) * 100 if tn + fn != 0 else 0\n",
    "\n",
    "print(\"数据集划分 random_state：\" + str(20)  + \"时，\")\n",
    "print(\"Evaluate：\")\n",
    "print(\"  accuracy : \" + str(accuracy))\n",
    "print(\"  mcc : \" + str(mcc))\n",
    "print(\"  sens : \" + str(sens))\n",
    "print(\"  spec : \" + str(spec)) \n",
    "print(\"============================\")"
   ]
  },
  {
   "cell_type": "markdown",
   "id": "07fafc56",
   "metadata": {},
   "source": [
    "## LR Feature2 Disorder score"
   ]
  },
  {
   "cell_type": "code",
   "execution_count": 16,
   "id": "5cec51bf",
   "metadata": {},
   "outputs": [
    {
     "name": "stdout",
     "output_type": "stream",
     "text": [
      "数据集划分 random_state：0时，\n",
      "Evaluate：\n",
      "  accuracy : 0.8055555555555556\n",
      "  mcc : 0.6080052052987127\n",
      "  sens : 60.0\n",
      "  spec : 95.23809523809523\n",
      "============================\n"
     ]
    }
   ],
   "source": [
    "# 设置超参数\n",
    "param_dict = { \"penalty\": [\"l1\",\"l2\"], \"C\": np.linspace(0.05,1,19), \"random_state\":np.arange(0, 31, 3), \"max_iter\": [100, 500, 1000]}\n",
    "\n",
    "# train_test_split 按比例划分原数据集\n",
    "Xtrain,Xtest,Ytrain,Ytest = train_test_split(input_feature,input_lable1,train_size=0.8,random_state = 0)\n",
    "\n",
    "# 建立逻辑回归模型\n",
    "clf = LR()\n",
    "# 将模型加入超参数网格搜索和交叉验证     \n",
    "clf = GridSearchCV(clf, param_grid=param_dict, cv=5)\n",
    "# 模型训练\n",
    "clf = clf.fit(Xtrain,Ytrain)\n",
    "# 模型评估\n",
    "Y_pred = clf.predict(Xtest)\n",
    "cm = confusion_matrix(Ytest,Y_pred)\n",
    "tn, tp, fn, fp = cm[0][0], cm[1][1], cm[1][0], cm[0][1]\n",
    "n = tp + fp + tn + fn\n",
    "accuracy = (tp + tn)/n \n",
    "mcc = ((tp*tn) - (fp*fn))/np.sqrt((tp+fp)*(tn+fn)*(tp+fn)*(tn+fp))\n",
    "sens = tp/(tp + fn) * 100 if tp + fp != 0 else 0\n",
    "spec = tn/(tn + fp) * 100 if tn + fn != 0 else 0\n",
    "\n",
    "print(\"数据集划分 random_state：\" + str(0)  + \"时，\")\n",
    "print(\"Evaluate：\")\n",
    "print(\"  accuracy : \" + str(accuracy))\n",
    "print(\"  mcc : \" + str(mcc))\n",
    "print(\"  sens : \" + str(sens))\n",
    "print(\"  spec : \" + str(spec)) \n",
    "print(\"============================\")"
   ]
  },
  {
   "cell_type": "markdown",
   "id": "ec4745a3",
   "metadata": {},
   "source": [
    "## KNN Feature1 Amino acid type"
   ]
  },
  {
   "cell_type": "code",
   "execution_count": 6,
   "id": "b308d002",
   "metadata": {},
   "outputs": [
    {
     "name": "stdout",
     "output_type": "stream",
     "text": [
      "数据集划分 random_state：16时，\n",
      "Evaluate：\n",
      "  accuracy : 0.8888888888888888\n",
      "  mcc : 0.7591973244147158\n",
      "  sens : 84.61538461538461\n",
      "  spec : 91.30434782608695\n",
      "============================\n"
     ]
    }
   ],
   "source": [
    "# 设置超参数\n",
    "param_dict = {\"n_neighbors\": np.arange(1, 11), \"weights\":[\"uniform\",\"distance\"]}\n",
    "\n",
    "# 划分训练集和测试集\n",
    "Xtrain,Xtest,Ytrain,Ytest = train_test_split(input_seq_tensor,input_lable,train_size=0.8,random_state = 16)\n",
    "# build model\n",
    "model = KNeighborsClassifier()\n",
    "# 将模型加入超参数网格搜索和交叉验证     \n",
    "model = GridSearchCV(model, param_grid=param_dict, cv=5)\n",
    "# model train\n",
    "model = model.fit(Xtrain,Ytrain)\n",
    "# 模型评估\n",
    "predict = model.predict(Xtest)\n",
    "cm = confusion_matrix(Ytest,predict)\n",
    "tn, tp, fn, fp = cm[0][0], cm[1][1], cm[1][0], cm[0][1]\n",
    "n = tp + fp + tn + fn\n",
    "accuracy = (tp + tn)/n \n",
    "mcc = ((tp*tn) - (fp*fn))/np.sqrt((tp+fp)*(tn+fn)*(tp+fn)*(tn+fp))\n",
    "sens = tp/(tp + fn) * 100 if tp + fp != 0 else 0\n",
    "spec = tn/(tn + fp) * 100 if tn + fn != 0 else 0\n",
    "print(\"数据集划分 random_state：\" + str(16)  + \"时，\")\n",
    "print(\"Evaluate：\")\n",
    "print(\"  accuracy : \" + str(accuracy))\n",
    "print(\"  mcc : \" + str(mcc))\n",
    "print(\"  sens : \" + str(sens))\n",
    "print(\"  spec : \" + str(spec)) \n",
    "print(\"============================\")"
   ]
  },
  {
   "cell_type": "markdown",
   "id": "c0018e3e",
   "metadata": {},
   "source": [
    "## KNN Feature2 Disorder score"
   ]
  },
  {
   "cell_type": "code",
   "execution_count": 9,
   "id": "d397c231",
   "metadata": {},
   "outputs": [
    {
     "name": "stdout",
     "output_type": "stream",
     "text": [
      "数据集划分 random_state：17时，\n",
      "Evaluate：\n",
      "  accuracy : 0.8888888888888888\n",
      "  mcc : 0.7230769230769231\n",
      "  sens : 80.0\n",
      "  spec : 92.3076923076923\n",
      "============================\n"
     ]
    }
   ],
   "source": [
    "# 设置超参数  \n",
    "param_dict = {\"n_neighbors\": np.arange(1, 11), \"weights\":[\"uniform\",\"distance\"]}\n",
    "\n",
    "# 划分训练集和测试集\n",
    "Xtrain,Xtest,Ytrain,Ytest = train_test_split(input_feature,input_lable1,train_size=0.8,random_state = 17)\n",
    "# build model\n",
    "model = KNeighborsClassifier()\n",
    "# 将模型加入超参数网格搜索和交叉验证     \n",
    "model = GridSearchCV(model, param_grid=param_dict, cv=5)\n",
    "# model train\n",
    "model = model.fit(Xtrain,Ytrain)\n",
    "# 模型评估\n",
    "predict = model.predict(Xtest)\n",
    "cm = confusion_matrix(Ytest,predict)\n",
    "tn, tp, fn, fp = cm[0][0], cm[1][1], cm[1][0], cm[0][1]\n",
    "n = tp + fp + tn + fn\n",
    "accuracy = (tp + tn)/n \n",
    "mcc = ((tp*tn) - (fp*fn))/np.sqrt((tp+fp)*(tn+fn)*(tp+fn)*(tn+fp))\n",
    "sens = tp/(tp + fn) * 100 if tp + fp != 0 else 0\n",
    "spec = tn/(tn + fp) * 100 if tn + fn != 0 else 0\n",
    "print(\"数据集划分 random_state：\" + str(17)  + \"时，\")\n",
    "print(\"Evaluate：\")\n",
    "print(\"  accuracy : \" + str(accuracy))\n",
    "print(\"  mcc : \" + str(mcc))\n",
    "print(\"  sens : \" + str(sens))\n",
    "print(\"  spec : \" + str(spec)) \n",
    "print(\"============================\")"
   ]
  },
  {
   "cell_type": "markdown",
   "id": "43fec58d",
   "metadata": {},
   "source": [
    "## SVM Feature1 Amino acid type"
   ]
  },
  {
   "cell_type": "code",
   "execution_count": 12,
   "id": "d64d7d07",
   "metadata": {},
   "outputs": [
    {
     "name": "stdout",
     "output_type": "stream",
     "text": [
      "数据集划分 random_state：0，定义SVM模型 random_state：30时，\n",
      "Evaluate：\n",
      "  accuracy : 0.8333333333333334\n",
      "  mcc : 0.6549455359345627\n",
      "  sens : 73.33333333333333\n",
      "  spec : 90.47619047619048\n",
      "============================\n"
     ]
    }
   ],
   "source": [
    "# 设置超参数\n",
    "param_dict = {\"C\":[10 ** i for i in range(-5, 6)], \"kernel\": [\"linear\",\"poly\",\"rbf\",\"sigmoid\"], \"gamma\": np.logspace(-10, 1, 50),\n",
    "              \"decision_function_shape\":[\"ovo\", \"ovr\"]}\n",
    "\n",
    "# 划分训练集和测试集\n",
    "Xtrain,Xtest,Ytrain,Ytest = train_test_split(input_seq_tensor,input_lable,train_size=0.8,random_state = 0)\n",
    "\n",
    "clf= SVC(degree = 1\n",
    "         , cache_size=5000\n",
    "         , random_state = 30\n",
    "         )\n",
    "# 将模型加入超参数网格搜索和交叉验证     \n",
    "clf = GridSearchCV(clf, param_grid=param_dict, cv=5)\n",
    "clf = clf.fit(Xtrain,Ytrain)\n",
    "\n",
    "Y_pred = clf.predict(Xtest)\n",
    "cm = confusion_matrix(Ytest,Y_pred)\n",
    "tn, tp, fn, fp = cm[0][0], cm[1][1], cm[1][0], cm[0][1]\n",
    "n = tp + fp + tn + fn\n",
    "accuracy = (tp + tn)/n \n",
    "mcc = ((tp*tn) - (fp*fn))/np.sqrt((tp+fp)*(tn+fn)*(tp+fn)*(tn+fp))\n",
    "sens = tp/(tp + fn) * 100 if tp + fp != 0 else 0\n",
    "spec = tn/(tn + fp) * 100 if tn + fn != 0 else 0\n",
    "print(\"数据集划分 random_state：\" + str(0)  + \"，定义SVM模型 random_state：\" + str(30) + \"时，\")\n",
    "print(\"Evaluate：\")\n",
    "print(\"  accuracy : \" + str(accuracy))\n",
    "print(\"  mcc : \" + str(mcc))\n",
    "print(\"  sens : \" + str(sens))\n",
    "print(\"  spec : \" + str(spec)) \n",
    "print(\"============================\")"
   ]
  },
  {
   "cell_type": "markdown",
   "id": "2ca08ac4",
   "metadata": {},
   "source": [
    "## SVM Feature2 Disorder score"
   ]
  },
  {
   "cell_type": "code",
   "execution_count": 22,
   "id": "927517b8",
   "metadata": {},
   "outputs": [
    {
     "name": "stdout",
     "output_type": "stream",
     "text": [
      "数据集划分 random_state：13，定义SVM模型 random_state：30时，\n",
      "Evaluate：\n",
      "  accuracy : 0.9166666666666666\n",
      "  mcc : 0.828302688169126\n",
      "  sens : 92.85714285714286\n",
      "  spec : 90.9090909090909\n",
      "============================\n"
     ]
    }
   ],
   "source": [
    "# 设置超参数\n",
    "param_dict = {\"C\":[10 ** i for i in range(-5, 6)], \"kernel\": [\"linear\",\"poly\",\"rbf\",\"sigmoid\"], \"gamma\": np.logspace(-10, 1, 50),\n",
    "              \"decision_function_shape\":[\"ovo\", \"ovr\"]}\n",
    "\n",
    "# 划分训练集和测试集\n",
    "Xtrain,Xtest,Ytrain,Ytest = train_test_split(input_feature,input_lable1,train_size=0.8,random_state = 13)\n",
    "clf= SVC(degree = 1\n",
    "         , cache_size=5000\n",
    "         , random_state = 30\n",
    "         )\n",
    "# 将模型加入超参数网格搜索和交叉验证     \n",
    "clf = GridSearchCV(clf, param_grid=param_dict, cv=5)\n",
    "clf = clf.fit(Xtrain,Ytrain)\n",
    "\n",
    "Y_pred = clf.predict(Xtest)\n",
    "cm = confusion_matrix(Ytest,Y_pred)\n",
    "tn, tp, fn, fp = cm[0][0], cm[1][1], cm[1][0], cm[0][1]\n",
    "n = tp + fp + tn + fn\n",
    "accuracy = (tp + tn)/n \n",
    "mcc = ((tp*tn) - (fp*fn))/np.sqrt((tp+fp)*(tn+fn)*(tp+fn)*(tn+fp))\n",
    "sens = tp/(tp + fn) * 100 if tp + fp != 0 else 0\n",
    "spec = tn/(tn + fp) * 100 if tn + fn != 0 else 0\n",
    "print(\"数据集划分 random_state：\" + str(13)  + \"，定义SVM模型 random_state：\" + str(30) + \"时，\")\n",
    "print(\"Evaluate：\")\n",
    "print(\"  accuracy : \" + str(accuracy))\n",
    "print(\"  mcc : \" + str(mcc))\n",
    "print(\"  sens : \" + str(sens))\n",
    "print(\"  spec : \" + str(spec)) \n",
    "print(\"============================\")"
   ]
  },
  {
   "cell_type": "markdown",
   "id": "58654c99",
   "metadata": {},
   "source": [
    "## DT  Feature1   Amino acid type"
   ]
  },
  {
   "cell_type": "code",
   "execution_count": 12,
   "id": "6d20a5d1",
   "metadata": {},
   "outputs": [
    {
     "name": "stdout",
     "output_type": "stream",
     "text": [
      "数据集划分 random_state：16 时，\n",
      "Evaluate：\n",
      "  accuracy : 0.8888888888888888\n",
      "  mcc : 0.7722492140123949\n",
      "  sens : 92.3076923076923\n",
      "  spec : 86.95652173913044\n",
      "============================\n"
     ]
    }
   ],
   "source": [
    "# 设置超参数  \n",
    "param_dict = {\"max_depth\": [5, 8, 15, 25, 30, 50, 100],\"random_state\":np.arange(0, 31, 3)}\n",
    "\n",
    "# 按比例划分原数据集\n",
    "Xtrain,Xtest,Ytrain,Ytest = train_test_split(input_seq_tensor, input_lable, train_size=0.8, random_state=16)\n",
    "# 定义模型  \n",
    "clf = tree.DecisionTreeClassifier(criterion=\"entropy\")\n",
    "# 将模型加入超参数网格搜索和交叉验证\n",
    "clf = GridSearchCV(clf, param_grid=param_dict, cv=5) #将训练/测试数据集划分5个互斥子集\n",
    "# 训练数据集\n",
    "clf = clf.fit(Xtrain, Ytrain)   \n",
    "Y_pred = clf.predict(Xtest)\n",
    "cm = confusion_matrix(Ytest,Y_pred) # 混淆矩阵\n",
    "tn, tp, fn, fp = cm[0][0], cm[1][1], cm[1][0], cm[0][1]\n",
    "n = tp + fp + tn + fn\n",
    "\n",
    "\n",
    "accuracy = (tp + tn)/n \n",
    "mcc = ((tp*tn) - (fp*fn))/np.sqrt((tp+fp)*(tn+fn)*(tp+fn)*(tn+fp))\n",
    "sens = tp/(tp + fn) * 100 if tp + fp != 0 else 0\n",
    "spec = tn/(tn + fp) * 100 if tn + fn != 0 else 0\n",
    "print(\"数据集划分 random_state：\" + str(16) + \" 时，\")\n",
    "print(\"Evaluate：\")\n",
    "print(\"  accuracy : \" + str(accuracy))\n",
    "print(\"  mcc : \" + str(mcc))\n",
    "print(\"  sens : \" + str(sens))\n",
    "print(\"  spec : \" + str(spec)) \n",
    "print(\"============================\")"
   ]
  },
  {
   "cell_type": "markdown",
   "id": "1501da91",
   "metadata": {},
   "source": [
    "## DT Feature2 Disorder score"
   ]
  },
  {
   "cell_type": "code",
   "execution_count": 14,
   "id": "8f15884e",
   "metadata": {},
   "outputs": [
    {
     "name": "stdout",
     "output_type": "stream",
     "text": [
      "数据集划分 random_state：17 时，\n",
      "Evaluate：\n",
      "  accuracy : 0.8611111111111112\n",
      "  mcc : 0.6656822568860216\n",
      "  sens : 80.0\n",
      "  spec : 88.46153846153845\n",
      "============================\n"
     ]
    }
   ],
   "source": [
    "# 设置超参数  \n",
    "param_dict = {\"max_depth\": [5, 8, 15, 25, 30, 50, 100],\"random_state\":np.arange(0, 31, 3)}\n",
    "# 按比例划分原数据集\n",
    "Xtrain,Xtest,Ytrain,Ytest = train_test_split(input_feature, input_lable1, train_size=0.8, random_state=17)\n",
    "# 定义模型  \n",
    "clf = tree.DecisionTreeClassifier(criterion=\"entropy\")\n",
    "# 将模型加入超参数网格搜索和交叉验证\n",
    "clf = GridSearchCV(clf, param_grid=param_dict, cv=5) #将训练/测试数据集划分5个互斥子集\n",
    "# 训练数据集\n",
    "clf = clf.fit(Xtrain, Ytrain)   \n",
    "Y_pred = clf.predict(Xtest)\n",
    "cm = confusion_matrix(Ytest,Y_pred) # 混淆矩阵\n",
    "tn, tp, fn, fp = cm[0][0], cm[1][1], cm[1][0], cm[0][1]\n",
    "n = tp + fp + tn + fn\n",
    "accuracy = (tp + tn)/n \n",
    "mcc = ((tp*tn) - (fp*fn))/np.sqrt((tp+fp)*(tn+fn)*(tp+fn)*(tn+fp))\n",
    "sens = tp/(tp + fn) * 100 if tp + fp != 0 else 0\n",
    "spec = tn/(tn + fp) * 100 if tn + fn != 0 else 0\n",
    "print(\"数据集划分 random_state：\" + str(17) + \" 时，\")\n",
    "print(\"Evaluate：\")\n",
    "print(\"  accuracy : \" + str(accuracy))\n",
    "print(\"  mcc : \" + str(mcc))\n",
    "print(\"  sens : \" + str(sens))\n",
    "print(\"  spec : \" + str(spec)) \n",
    "print(\"============================\")"
   ]
  },
  {
   "cell_type": "markdown",
   "id": "1a92f4c6",
   "metadata": {},
   "source": [
    "## XGBoost Feature1 Amino acid type"
   ]
  },
  {
   "cell_type": "code",
   "execution_count": 27,
   "id": "836013ec",
   "metadata": {},
   "outputs": [
    {
     "name": "stdout",
     "output_type": "stream",
     "text": [
      "数据集划分 random_state：4 时，\n",
      "Evaluate：\n",
      "  accuracy : 0.9166666666666666\n",
      "  mcc : 0.8101627221513197\n",
      "  sens : 90.9090909090909\n",
      "  spec : 92.0\n",
      "============================\n"
     ]
    }
   ],
   "source": [
    "# 设置超参数  max_depth：最大深度\n",
    "param_dict = {\"learning_rate\": [0.01, 0.1],\"max_depth\": [5, 8, 15, 25, 30, 50, 100],\"random_state\":np.arange(0, 31, 3)}\n",
    "\n",
    "# train_test_split 按比例划分原数据集\n",
    "Xtrain,Xtest,Ytrain,Ytest = train_test_split(input_seq_tensor,input_lable,train_size=0.8,random_state = 4)\n",
    "# 定义模型\n",
    "model = xgb.XGBClassifier()\n",
    "# 将模型加入超参数网格搜索和交叉验证     \n",
    "model = GridSearchCV(model, param_grid=param_dict, cv=5)\n",
    "# 训练数据集\n",
    "model = model.fit(Xtrain, Ytrain)\n",
    "# 模型评估\n",
    "predict = model.predict(Xtest)\n",
    "cm = confusion_matrix(Ytest,predict)\n",
    "tn, tp, fn, fp = cm[0][0], cm[1][1], cm[1][0], cm[0][1]\n",
    "n = tp + fp + tn + fn\n",
    "accuracy = (tp + tn)/n \n",
    "mcc = ((tp*tn) - (fp*fn))/np.sqrt((tp+fp)*(tn+fn)*(tp+fn)*(tn+fp))\n",
    "sens = tp/(tp + fn) * 100 if tp + fp != 0 else 0\n",
    "spec = tn/(tn + fp) * 100 if tn + fn != 0 else 0\n",
    "print(\"数据集划分 random_state：\" + str(4) + \" 时，\")\n",
    "print(\"Evaluate：\")\n",
    "print(\"  accuracy : \" + str(accuracy))\n",
    "print(\"  mcc : \" + str(mcc))\n",
    "print(\"  sens : \" + str(sens))\n",
    "print(\"  spec : \" + str(spec)) \n",
    "print(\"============================\")"
   ]
  },
  {
   "cell_type": "markdown",
   "id": "68651a36",
   "metadata": {},
   "source": [
    "## XGBoost Feature2 Disorder score"
   ]
  },
  {
   "cell_type": "code",
   "execution_count": 28,
   "id": "c51d8338",
   "metadata": {},
   "outputs": [
    {
     "name": "stdout",
     "output_type": "stream",
     "text": [
      "数据集划分 random_state：13 时，\n",
      "Evaluate：\n",
      "  accuracy : 0.9444444444444444\n",
      "  mcc : 0.8831168831168831\n",
      "  sens : 92.85714285714286\n",
      "  spec : 95.45454545454545\n",
      "============================\n"
     ]
    }
   ],
   "source": [
    "# 设置超参数  max_depth：最大深度\n",
    "param_dict = {\"learning_rate\": [0.01, 0.1],\"max_depth\": [5, 8, 15, 25, 30, 50, 100],\"random_state\":np.arange(0, 31, 3)}\n",
    "\n",
    "# train_test_split 按比例划分原数据集\n",
    "Xtrain,Xtest,Ytrain,Ytest = train_test_split(input_feature,input_lable1,train_size=0.8,random_state = 13)\n",
    "# 定义模型\n",
    "model = xgb.XGBClassifier()\n",
    "# 将模型加入超参数网格搜索和交叉验证     \n",
    "model = GridSearchCV(model, param_grid=param_dict, cv=5)\n",
    "# 训练数据集\n",
    "model = model.fit(Xtrain, Ytrain)\n",
    "# 模型评估\n",
    "predict = model.predict(Xtest)\n",
    "cm = confusion_matrix(Ytest,predict)\n",
    "tn, tp, fn, fp = cm[0][0], cm[1][1], cm[1][0], cm[0][1]\n",
    "n = tp + fp + tn + fn\n",
    "accuracy = (tp + tn)/n \n",
    "mcc = ((tp*tn) - (fp*fn))/np.sqrt((tp+fp)*(tn+fn)*(tp+fn)*(tn+fp))\n",
    "sens = tp/(tp + fn) * 100 if tp + fp != 0 else 0\n",
    "spec = tn/(tn + fp) * 100 if tn + fn != 0 else 0\n",
    "print(\"数据集划分 random_state：\" + str(13) + \" 时，\")\n",
    "print(\"Evaluate：\")\n",
    "print(\"  accuracy : \" + str(accuracy))\n",
    "print(\"  mcc : \" + str(mcc))\n",
    "print(\"  sens : \" + str(sens))\n",
    "print(\"  spec : \" + str(spec)) \n",
    "print(\"============================\")"
   ]
  },
  {
   "cell_type": "markdown",
   "id": "2e41defa",
   "metadata": {},
   "source": [
    "## RF Feature1 Amino acid type"
   ]
  },
  {
   "cell_type": "code",
   "execution_count": 29,
   "id": "5c20cbd8",
   "metadata": {},
   "outputs": [
    {
     "name": "stdout",
     "output_type": "stream",
     "text": [
      "数据集划分 random_state：23 时，\n",
      "Evaluate：\n",
      "  accuracy : 0.8888888888888888\n",
      "  mcc : 0.7662337662337663\n",
      "  sens : 85.71428571428571\n",
      "  spec : 90.9090909090909\n",
      "============================\n"
     ]
    }
   ],
   "source": [
    "# 设置超参数  n_estimators：决策数的数量 默认100\n",
    "param_dict = {\"n_estimators\": [100, 200, 400, 700], \"max_depth\": [5, 8, 15, 25, 30, 50, 100],\"random_state\":np.arange(0, 31, 5)}\n",
    "\n",
    "# train_test_split 按比例划分原数据集\n",
    "Xtrain,Xtest,Ytrain,Ytest = train_test_split(input_seq_tensor,input_lable,train_size=0.8,random_state = 23)\n",
    "# 定义模型\n",
    "model = RandomForestClassifier(criterion=\"entropy\")\n",
    "# 将模型加入超参数网格搜索和交叉验证     \n",
    "model = GridSearchCV(model, param_grid=param_dict, cv=5)\n",
    "# 训练数据集\n",
    "model = model.fit(Xtrain, Ytrain)\n",
    "# 模型评估\n",
    "predict = model.predict(Xtest)\n",
    "cm = confusion_matrix(Ytest,predict)\n",
    "tn, tp, fn, fp = cm[0][0], cm[1][1], cm[1][0], cm[0][1]\n",
    "n = tp + fp + tn + fn\n",
    "accuracy = (tp + tn)/n \n",
    "mcc = ((tp*tn) - (fp*fn))/np.sqrt((tp+fp)*(tn+fn)*(tp+fn)*(tn+fp))\n",
    "sens = tp/(tp + fn) * 100 if tp + fp != 0 else 0\n",
    "spec = tn/(tn + fp) * 100 if tn + fn != 0 else 0\n",
    "print(\"数据集划分 random_state：\" + str(23) + \" 时，\")\n",
    "print(\"Evaluate：\")\n",
    "print(\"  accuracy : \" + str(accuracy))\n",
    "print(\"  mcc : \" + str(mcc))\n",
    "print(\"  sens : \" + str(sens))\n",
    "print(\"  spec : \" + str(spec)) \n",
    "print(\"============================\")"
   ]
  },
  {
   "cell_type": "markdown",
   "id": "679e7c71",
   "metadata": {},
   "source": [
    "## RF Feature2 Disorder score"
   ]
  },
  {
   "cell_type": "code",
   "execution_count": 30,
   "id": "564095fc",
   "metadata": {},
   "outputs": [
    {
     "name": "stdout",
     "output_type": "stream",
     "text": [
      "数据集划分 random_state：13 时，\n",
      "Evaluate：\n",
      "  accuracy : 0.9166666666666666\n",
      "  mcc : 0.828302688169126\n",
      "  sens : 92.85714285714286\n",
      "  spec : 90.9090909090909\n",
      "============================\n"
     ]
    }
   ],
   "source": [
    "# 设置超参数  n_estimators：决策数的数量 默认100\n",
    "param_dict = {\"n_estimators\": [100, 200, 400, 700], \"max_depth\": [5, 8, 15, 25, 30, 50, 100],\"random_state\":np.arange(0, 31, 5)}\n",
    "\n",
    "# train_test_split 按比例划分原数据集\n",
    "Xtrain,Xtest,Ytrain,Ytest = train_test_split(input_feature,input_lable1,train_size=0.8,random_state = 13)\n",
    "# 定义模型\n",
    "model = RandomForestClassifier(criterion=\"entropy\")\n",
    "# 将模型加入超参数网格搜索和交叉验证     \n",
    "model = GridSearchCV(model, param_grid=param_dict, cv=5)\n",
    "# 训练数据集\n",
    "model = model.fit(Xtrain, Ytrain)\n",
    "# 模型评估\n",
    "predict = model.predict(Xtest)\n",
    "cm = confusion_matrix(Ytest,predict)\n",
    "tn, tp, fn, fp = cm[0][0], cm[1][1], cm[1][0], cm[0][1]\n",
    "n = tp + fp + tn + fn\n",
    "accuracy = (tp + tn)/n \n",
    "mcc = ((tp*tn) - (fp*fn))/np.sqrt((tp+fp)*(tn+fn)*(tp+fn)*(tn+fp))\n",
    "sens = tp/(tp + fn) * 100 if tp + fp != 0 else 0\n",
    "spec = tn/(tn + fp) * 100 if tn + fn != 0 else 0\n",
    "print(\"数据集划分 random_state：\" + str(13) + \" 时，\")\n",
    "print(\"Evaluate：\")\n",
    "print(\"  accuracy : \" + str(accuracy))\n",
    "print(\"  mcc : \" + str(mcc))\n",
    "print(\"  sens : \" + str(sens))\n",
    "print(\"  spec : \" + str(spec)) \n",
    "print(\"============================\")"
   ]
  }
 ],
 "metadata": {
  "kernelspec": {
   "display_name": "Python 3",
   "language": "python",
   "name": "python3"
  },
  "language_info": {
   "codemirror_mode": {
    "name": "ipython",
    "version": 3
   },
   "file_extension": ".py",
   "mimetype": "text/x-python",
   "name": "python",
   "nbconvert_exporter": "python",
   "pygments_lexer": "ipython3",
   "version": "3.8.8"
  }
 },
 "nbformat": 4,
 "nbformat_minor": 5
}
